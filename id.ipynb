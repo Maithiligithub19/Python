{
 "cells": [
  {
   "cell_type": "markdown",
   "metadata": {},
   "source": [
    "# Python id() Function and Object Identity"
   ]
  },
  {
   "cell_type": "markdown",
   "metadata": {},
   "source": [
    "## Understanding id() Function"
   ]
  },
  {
   "cell_type": "code",
   "execution_count": null,
   "metadata": {},
   "outputs": [],
   "source": [
    "# Python id() function - returns unique identifier of an object\n",
    "print(id(5))  # id of literal 5\n",
    "\n",
    "a = 10\n",
    "print('id of a',id(a))  # id of variable a\n",
    "\n",
    "b = a  # b points to same object as a\n",
    "print('id of b',id(b))  # same id as a"
   ]
  },
  {
   "cell_type": "markdown",
   "metadata": {},
   "source": [
    "## Same Value Literals Stored at Same Location"
   ]
  },
  {
   "cell_type": "code",
   "execution_count": null,
   "metadata": {},
   "outputs": [],
   "source": [
    "a=10\n",
    "b=10\n",
    "print(id(a))  # same id for same value\n",
    "print(id(b))\n",
    "\n",
    "c= \"geek\"\n",
    "d=\"geek\"\n",
    "print('id c',id(c))  # same id for same string\n",
    "print('id of d',id(d))"
   ]
  },
  {
   "cell_type": "markdown",
   "metadata": {},
   "source": [
    "## 'is' Operator - Object Identity Check"
   ]
  },
  {
   "cell_type": "code",
   "execution_count": null,
   "metadata": {},
   "outputs": [],
   "source": [
    "# 'is' operator checks if two variables point to same object\n",
    "a = 10\n",
    "b = 10\n",
    "print(a is b)  # True - same object\n",
    "\n",
    "c = a\n",
    "print(c is b)  # True - all point to same object\n",
    "\n",
    "c = 20  # c now points to different object\n",
    "print(c is b)  # False - different objects"
   ]
  }
 ],
 "metadata": {
  "kernelspec": {
   "display_name": "Python 3",
   "language": "python",
   "name": "python3"
  },
  "language_info": {
   "codemirror_mode": {
    "name": "ipython",
    "version": 3
   },
   "file_extension": ".py",
   "mimetype": "text/x-python",
   "name": "python",
   "nbconvert_exporter": "python",
   "pygments_lexer": "ipython3",
   "version": "3.8.5"
  }
 },
 "nbformat": 4,
 "nbformat_minor": 4
}