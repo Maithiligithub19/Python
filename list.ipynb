{
 "cells": [
  {
   "cell_type": "markdown",
   "metadata": {},
   "source": [
    "# Python Lists - Complete Guide"
   ]
  },
  {
   "cell_type": "markdown",
   "metadata": {},
   "source": [
    "## List Item Access"
   ]
  },
  {
   "cell_type": "code",
   "execution_count": null,
   "metadata": {},
   "outputs": [],
   "source": [
    "l = [10,20,30,40,50]\n",
    "\n",
    "print(l)\n",
    "print(l[3])\n",
    "print(l[-1])\n",
    "print(l[-2])"
   ]
  },
  {
   "cell_type": "markdown",
   "metadata": {},
   "source": [
    "## List Insert and Search"
   ]
  },
  {
   "cell_type": "code",
   "execution_count": null,
   "metadata": {},
   "outputs": [],
   "source": [
    "l.append(30)     # appending 30 at last\n",
    "print(l)\n",
    "l.insert(1, 15)  # inserting value at index 1 \n",
    "print(l)\n",
    "\n",
    "print(15 in l)      # checking for 15 in l\n",
    "print(l.count(30))  # counting occurrence of 30\n",
    "print(l.index(30))  # checking index of first occurrence of 30"
   ]
  },
  {
   "cell_type": "markdown",
   "metadata": {},
   "source": [
    "## List Removal Operations"
   ]
  },
  {
   "cell_type": "code",
   "execution_count": null,
   "metadata": {},
   "outputs": [],
   "source": [
    "l = [10, 20, 30, 40, 50, 60, 70, 80]\n",
    "\n",
    "print(l)\n",
    "\n",
    "l.remove(20)\n",
    "print('after removing 20',l)\n",
    "\n",
    "print('removing and returning last item',l.pop())\n",
    "print('after removing last item',l)\n",
    "\n",
    "print('removing and returning item at index 2',l.pop(2))\n",
    "print('after removing item at index 2',l)\n",
    "\n",
    "del l[1]\n",
    "print('after removing item at index 1, using del',l)\n",
    "\n",
    "del l[0:2]\n",
    "print('after removing items from  index 0 to 2-1, using del',l)"
   ]
  },
  {
   "cell_type": "markdown",
   "metadata": {},
   "source": [
    "## General Purpose Functions"
   ]
  },
  {
   "cell_type": "code",
   "execution_count": null,
   "metadata": {},
   "outputs": [],
   "source": [
    "l = [10, 40, 20, 50]\n",
    "\n",
    "print(l)\n",
    "print('max', max(l))\n",
    "print('min', min(l))\n",
    "print('sum', sum(l))\n",
    "\n",
    "l.reverse()\n",
    "print('after reverse', l)\n",
    "\n",
    "l.sort()\n",
    "print('after sorting', l)"
   ]
  },
  {
   "cell_type": "markdown",
   "metadata": {},
   "source": [
    "## String Lists and Methods"
   ]
  },
  {
   "cell_type": "code",
   "execution_count": null,
   "metadata": {},
   "outputs": [],
   "source": [
    "str_list = ['apple', 'banana', 'cherry', 'date']\n",
    "\n",
    "print(str_list)\n",
    "print('sorted:', sorted(str_list))\n",
    "\n",
    "str_list.append('elderberry')\n",
    "print('after append:', str_list)\n",
    "\n",
    "str_list.extend(['fig', 'grape'])\n",
    "print('after extend:', str_list)\n",
    "\n",
    "str_list.sort()\n",
    "print('after sort:', str_list)\n",
    "\n",
    "print('index of cherry:', str_list.index('cherry'))\n",
    "print('count of apple:', str_list.count('apple'))\n",
    "\n",
    "print('min string:', min(str_list))\n",
    "print('max string:', max(str_list))\n",
    "\n",
    "str_list.reverse()\n",
    "print('after reverse:', str_list)\n",
    "\n",
    "str_list.sort(reverse=True)\n",
    "print('after reverse sort:', str_list)"
   ]
  }
 ],
 "metadata": {
  "kernelspec": {
   "display_name": "Python 3",
   "language": "python",
   "name": "python3"
  },
  "language_info": {
   "codemirror_mode": {
    "name": "ipython",
    "version": 3
   },
   "file_extension": ".py",
   "mimetype": "text/x-python",
   "name": "python",
   "nbconvert_exporter": "python",
   "pygments_lexer": "ipython3",
   "version": "3.8.5"
  }
 },
 "nbformat": 4,
 "nbformat_minor": 4
}