{
 "cells": [
  {
   "cell_type": "markdown",
   "metadata": {},
   "source": [
    "# Python Sets - Complete Guide"
   ]
  },
  {
   "cell_type": "markdown",
   "metadata": {},
   "source": [
    "## Set Creation and Basic Operations"
   ]
  },
  {
   "cell_type": "code",
   "execution_count": null,
   "metadata": {},
   "outputs": [],
   "source": [
    "s1 = {10, 20, 30}  # direct set creation\n",
    "print(s1)\n",
    "\n",
    "s2 = set([20, 30, 40])  # set from list\n",
    "print(s2)\n",
    "\n",
    "s3 = {}  # this creates dict, not set\n",
    "print('expected type set',type(s3))\n",
    "\n",
    "s4 = set()  # correct way to create empty set\n",
    "print(type(s4))\n",
    "print(s4)"
   ]
  },
  {
   "cell_type": "markdown",
   "metadata": {},
   "source": [
    "## Adding Elements to Set"
   ]
  },
  {
   "cell_type": "code",
   "execution_count": null,
   "metadata": {},
   "outputs": [],
   "source": [
    "s = {10, 20}\n",
    "s.add(30)  # add single element\n",
    "print(s)\n",
    "\n",
    "s.add(30)  # adding duplicate items - no effect\n",
    "print(s)\n",
    "\n",
    "s.update([40, 50])  # add multiple elements\n",
    "print(s)\n",
    "\n",
    "s.update([60, 70], [80, 90])  # inserting multiple lists\n",
    "print(s)\n",
    "\n",
    "print('length of set', len(s))  # set size\n",
    "print(50 in s)  # membership test"
   ]
  },
  {
   "cell_type": "markdown",
   "metadata": {},
   "source": [
    "## Removing Elements from Set"
   ]
  },
  {
   "cell_type": "code",
   "execution_count": null,
   "metadata": {},
   "outputs": [],
   "source": [
    "s = {10, 30, 20, 40}\n",
    "s.discard(30)  # remove element (no error if not found)\n",
    "print(s)\n",
    "\n",
    "s.remove(20)  # remove element (error if not found)\n",
    "print(s)\n",
    "\n",
    "s.clear()  # remove all elements\n",
    "print(s)\n",
    "\n",
    "s.add(50)\n",
    "del s  # delete set object"
   ]
  },
  {
   "cell_type": "markdown",
   "metadata": {},
   "source": [
    "## Set Operations"
   ]
  },
  {
   "cell_type": "code",
   "execution_count": null,
   "metadata": {},
   "outputs": [],
   "source": [
    "s1 = {2, 4, 6, 8}\n",
    "s2 = {3, 6, 9}\n",
    "\n",
    "# Union - all elements from both sets\n",
    "print('union ', s1 | s2)  # using operator\n",
    "print(s1.union(s2))  # using method\n",
    "\n",
    "# Intersection - common elements\n",
    "print('intersecton', s1 & s2)  # using operator\n",
    "print(s1.intersection(s2))  # using method\n",
    "\n",
    "# Difference - elements in s1 but not in s2\n",
    "print('present in s1, but not present in s2', s1 - s2)\n",
    "print(s1.difference(s2))\n",
    "\n",
    "# Symmetric difference - elements in either set but not both\n",
    "print('symmetric differences, not present in both', s1 ^ s2)"
   ]
  },
  {
   "cell_type": "markdown",
   "metadata": {},
   "source": [
    "## Set Relationships"
   ]
  },
  {
   "cell_type": "code",
   "execution_count": null,
   "metadata": {},
   "outputs": [],
   "source": [
    "s1 = {2, 4, 6, 8}\n",
    "s2 = {4, 8}\n",
    "\n",
    "print('disjoint sets:', s1.isdisjoint(s2))  # no common elements\n",
    "\n",
    "print('isSubset:', s1 <= s2)  # s1 subset of s2\n",
    "print(s1.issubset(s2))\n",
    "\n",
    "print('proper subset:', s1 < s2)  # s1 proper subset of s2\n",
    "\n",
    "print('s1 is superset of s2:', s1 >= s2)  # s1 contains all of s2\n",
    "print(s1.issuperset(s2))\n",
    "\n",
    "print('s1 is proper superset of s2:', s1 > s2)  # s1 contains s2 but not equal"
   ]
  }
 ],
 "metadata": {
  "kernelspec": {
   "display_name": "Python 3",
   "language": "python",
   "name": "python3"
  },
  "language_info": {
   "codemirror_mode": {
    "name": "ipython",
    "version": 3
   },
   "file_extension": ".py",
   "mimetype": "text/x-python",
   "name": "python",
   "nbconvert_exporter": "python",
   "pygments_lexer": "ipython3",
   "version": "3.8.5"
  }
 },
 "nbformat": 4,
 "nbformat_minor": 4
}